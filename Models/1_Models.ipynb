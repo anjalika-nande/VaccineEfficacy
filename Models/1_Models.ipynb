{
 "cells": [
  {
   "cell_type": "markdown",
   "metadata": {},
   "source": [
    "# Models\n",
    "\n",
    "## SEIR Model\n",
    "A basic SEIR model is used to simulate the spread of an infectious disease in a population without vaccination. Note that we use normalized variables such that the total population $N = S + E + I + R = 1$. The model is implemented as ``utils.seir`` and is solved using ``scipy.integrate.solve_ivp``.\n",
    "\n",
    "### Equations\n",
    "\\begin{align*}\n",
    "\\dot{S} &= - \\beta S I \\\\\n",
    "\\dot{E} &= \\beta S I - \\sigma E \\\\\n",
    "\\dot{I} &= \\sigma E - \\gamma I \\\\\n",
    "\\dot{R} &= \\gamma I \\\\\n",
    "\\end{align*}\n",
    "\n",
    "\n",
    "### Variables\n",
    "- $S$: Fraction of susceptible individuals\n",
    "- $E$: Fraction of exposed individuals\n",
    "- $I$: Fraction of infected individuals\n",
    "- $R$: Fraction of recovered individuals\n",
    "\n",
    "### Parameters\n",
    "- $\\beta$: Infectiousness of infected individuals\n",
    "- $\\sigma$: Duration of the latent period\n",
    "- $\\gamma$: Duration of the infectious period"
   ]
  },
  {
   "cell_type": "markdown",
   "metadata": {},
   "source": [
    "## Modified SEIR Model\n",
    "We modify the above SEIR model to incorporate two possible vaccine failure mechanisms - 'leaky' and 'all-or-nothing' - into our simulation. Note that similar to the SEIR Model above, all variables used are normalized such that $N = S + V_{S} + V_{R} + E + I + R = 1$. The model is implemented as ``utils.modified_seir`` and is solved using ``scipy.integrate.solve_ivp``.\n",
    "\n",
    "\n",
    "### Equations\n",
    "\\begin{align*}\n",
    "\\dot{S} &= - \\beta SI - v(t)S \\\\\n",
    "\\dot{V}_{S} &= (1 - \\epsilon_A)v(t)S - \\beta V_{S}I + \\omega V_{R} \\\\\n",
    "\\dot{V}_{R} &= \\epsilon_A v(t)S - \\beta(1-\\epsilon_L)V_{R}I - \\omega V_{S} \\\\\n",
    "\\dot{E} &= \\beta (S + V_S + (1 - \\epsilon_L) V_R)I - \\sigma E \\\\\n",
    "\\dot{I} &= \\sigma E - \\gamma I \\\\\n",
    "\\dot{R} &= \\gamma I \\\\\n",
    "\\end{align*}\n",
    "\n",
    "### Variables\n",
    "- $S$: Fraction of susceptible and uninfected individuals\n",
    "- $V_{S}$: Fraction of vaccinated and uninfected individuals who are equally as susceptible as unvaccinated individuals \n",
    "- $V_{R}$: Fraction of vaccinated and uninfected individuals who are less susceptible than unvaccinated individuals\n",
    "- $E$: Fraction of exposed individuals who are not yet infected\n",
    "- $I$: Fraction of infected individuals\n",
    "- $R$: Fraction of recovered individuals\n",
    "\n",
    "### Parameters\n",
    "- $\\beta$: Infectiousnes of infected individuals\n",
    "- $v(t)$: Fraction of population vaccinated per unit time. For an instantaneous vaccination campaign at time $t_V$ that targets a fraction $f_V$ of the population, $v(t) = f_V \\delta (t - t_V)$ where $\\delta$ is the Kronecker delta function. For a continuous vaccine rollout beginning at time $t_V$ at initial rate $v_{max}$ and continuing until a fraction $f_V$ of the population are vaccinated, $v(t) = v_{max}H(t-t_V)(1 - \\frac{V_S + V_R}{f_V})$ where $H$ is the Heaviside step function.\n",
    "- $\\epsilon_A$: Efficacy of 'all-or-nothing' protection\n",
    "- $\\epsilon_L$: Efficacy of 'leaky' protection\n",
    "- $\\sigma$: Duration of the latent period\n",
    "- $\\gamma$: Duration of the infectious period\n",
    "- $\\omega$: Rate at which vaccine efficacy decreases overtime"
   ]
  },
  {
   "cell_type": "markdown",
   "metadata": {},
   "source": [
    "## Basic Reproduction Number ($R_0$)\n",
    "\n",
    "The basic reproduction number $R_0$ is defined as the average number of secondary cases produced by a single infected individual. This dimensionless number can be calculated by dividing the transmission rate of the disease by its recovery rate, as it represents the ratio of how fast the disease spreads to the expected duration of infection. $R_0$, in the absense of vaccination, is defined as:\n",
    "\n",
    "$$ R_0 = \\frac{\\beta}{\\gamma} N $$\n",
    "\n",
    "where $N=1$ because we use normalized variables in this model. \n",
    "\n",
    "The $R_0$ value changes throughout the progression of the disease as interventions that lower the transmission rate are introduced, such as vaccination or quarantine. Thus, assuming vaccination of a fracton $f_V$ of the population takes place before the epidemic begins, the basic reproduction number for this model is:\n",
    "\n",
    "$$ R_{0,V} = \\frac{\\beta}{\\gamma} (1 - \\epsilon_L \\epsilon_A f_V) = R_0 (1 - \\epsilon_L \\epsilon_A f_V)$$\n"
   ]
  }
 ],
 "metadata": {
  "kernelspec": {
   "display_name": "Python 3",
   "language": "python",
   "name": "python3"
  },
  "language_info": {
   "codemirror_mode": {
    "name": "ipython",
    "version": 3
   },
   "file_extension": ".py",
   "mimetype": "text/x-python",
   "name": "python",
   "nbconvert_exporter": "python",
   "pygments_lexer": "ipython3",
   "version": "3.9.12"
  }
 },
 "nbformat": 4,
 "nbformat_minor": 4
}
