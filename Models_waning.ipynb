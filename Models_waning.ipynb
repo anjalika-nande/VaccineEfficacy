{
 "cells": [
  {
   "cell_type": "code",
   "execution_count": 1,
   "metadata": {},
   "outputs": [],
   "source": [
    "### import modules\n",
    "import numpy as np\n",
    "import matplotlib.pyplot as plt\n",
    "import pandas as pd\n",
    "from scipy.integrate import odeint\n",
    "from pkg.utils import plot_timeseries"
   ]
  },
  {
   "cell_type": "markdown",
   "metadata": {},
   "source": [
    "# Model - Waning\n",
    "\n",
    "Here we build off the modified SEIR model to include the possible waning effect of vaccination. Protection provided by vaccination is known to decrease over time, causing the vaccinated population to become once again susceptible to the disease. Thus, it is important to explore the effect of waning on the population dynamics between the two vaccine failure modes. Similar to the other models, all variables were normalized such that $N = S + V_{S} + V_{R} + E + I + R = 1$ and vaccines were administered instantaneously.\n",
    "\n",
    "Also for simplcity, we consider vaccinated individuals with waned immunity to be equally as susceptible to the disease as unvaccinated individuals, and we assume that waning happens instantaneously. \n",
    "\n",
    "https://www.sciencedirect.com/science/article/pii/S1877750319303163\n",
    "\n",
    "### Equations\n",
    "\\begin{align*}\n",
    "\\dot{S} &= - \\beta SI - v(t)S + w(t)(V_{S} + V_{R})\\\\\n",
    "\\dot{V}_{S} &= (1 - \\epsilon_A)v(t)S - \\beta V_{S}I - w(t)V_{S}\\\\\n",
    "\\dot{V}_{R} &= \\epsilon_A v(t)S - \\beta(1-\\epsilon_L)V_{R}I + w(t)V_{R}\\\\\n",
    "\\dot{E} &= \\beta (S + V_S + (1 - \\epsilon_L) V_R)I - \\sigma E \\\\\n",
    "\\dot{I} &= \\sigma E - \\gamma I \\\\\n",
    "\\dot{R} &= \\gamma I \\\\\n",
    "\\end{align*}\n",
    "\n",
    "### Variables\n",
    "- $S$: Fraction of susceptible and uninfected individuals\n",
    "- $V_{S}$: Fraction of vaccinated and uninfected individuals who are equally as susceptible as unvaccinated individuals \n",
    "- $V_{R}$: Fraction of vaccinated and uninfected individuals who are less susceptible than unvaccinated individuals\n",
    "- $E$: Fraction of exposed individuals who are not yet infected\n",
    "- $I$: Fraction of infected individuals\n",
    "- $R$: Fraction of recovered individuals\n",
    "\n",
    "### Parameters\n",
    "- $\\beta$: Infectiousnes of infected individuals\n",
    "- $v(t)$: Fraction of population vaccinated per unit time. For an instantaneous vaccination campaign at time $t_V$ that targets a fraction $f_V$ of the population, $v(t) = f_V \\delta (t - t_V)$ where $\\delta$ is the Kronecker delta function. For a continuous vaccine rollout beginning at time $t_V$ at initial rate $v_{max}$ and continuing until a fraction $f_V$ of the population are vaccinated, $v(t) = v_{max}H(t-t_V)(1 - \\frac{V_S + V_R}{f_V})$ where $H$ is the Heaviside step function.\n",
    "- $\\epsilon_A$: Efficacy of 'all-or-nothing' protection\n",
    "- $\\epsilon_L$: Efficacy of 'leaky' protection\n",
    "- $\\sigma$: Duration of the latent period\n",
    "- $\\gamma$: Duration of the infectious period\n",
    "- $w(t)$: Fraction of vaccinated population with waned immunity per unit time. For an instantaneous waning effect at time $t_W$ that targets a fraction $f_W$ of the population, $w(t) = f_W \\delta (t - t_W)$ where $\\delta$ is the Kronecker delta function. For a continuous waning effect beginning at time $t_W$ at initial rate 0 and continuing until $V_S + V_R$ becomes 0 at maximum rate $w_{max}, $w(t) = w_{max}H(t-t_W)(1 - \\frac{V_S + V_R}{f_V})$ where $H$ is the Heaviside step function and $f_V$ is the fraction of the population that are vaccinated."
   ]
  },
  {
   "cell_type": "markdown",
   "metadata": {},
   "source": []
  }
 ],
 "metadata": {
  "interpreter": {
   "hash": "4f3b8eefc78933c2a2d236489075eaa413f116baf616c244ca2be3004dc84179"
  },
  "kernelspec": {
   "display_name": "Python 3.9.7 ('base')",
   "language": "python",
   "name": "python3"
  },
  "language_info": {
   "codemirror_mode": {
    "name": "ipython",
    "version": 3
   },
   "file_extension": ".py",
   "mimetype": "text/x-python",
   "name": "python",
   "nbconvert_exporter": "python",
   "pygments_lexer": "ipython3",
   "version": "3.9.7"
  },
  "orig_nbformat": 4
 },
 "nbformat": 4,
 "nbformat_minor": 2
}
