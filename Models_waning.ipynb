{
 "cells": [
  {
   "cell_type": "code",
   "execution_count": 2,
   "metadata": {},
   "outputs": [],
   "source": [
    "### import modules\n",
    "import numpy as np\n",
    "import matplotlib.pyplot as plt\n",
    "import pandas as pd\n",
    "from scipy.integrate import odeint\n",
    "from pkg.utils import plot_timeseries"
   ]
  },
  {
   "cell_type": "markdown",
   "metadata": {},
   "source": [
    "# Model - Waning\n",
    "\n",
    "Here we build off the modified SEIR model to include the possible waning effect of vaccination. Protection provided by vaccination is known to decrease over time, causing the vaccinated population to become once again susceptible to the disease. Thus, it is important to explore the effect of waning on the population dynamics between the two vaccine failure modes. Similar to the other models, all variables were normalized such that $N = S + V_{S} + V_{R} + E + I + R = 1$ and vaccines were administered instantaneously.\n",
    "\n",
    "https://www.sciencedirect.com/science/article/pii/S1877750319303163\n",
    "\n",
    "### Equations\n",
    "\\begin{align*}\n",
    "\\dot{S} &= - \\beta SI - v(t)S \\\\\n",
    "\\dot{V}_{S} &= (1 - \\epsilon_A)v(t)S - \\beta V_{S}I + wV_{R}\\\\\n",
    "\\dot{V}_{R} &= \\epsilon_A v(t)S - \\beta(1-\\epsilon_L)V_{R}I - wV_{R}\\\\\n",
    "\\dot{E} &= \\beta (S + V_S + (1 - \\epsilon_L) V_R)I - \\sigma E \\\\\n",
    "\\dot{I} &= \\sigma E - \\gamma I \\\\\n",
    "\\dot{R} &= \\gamma I \\\\\n",
    "\\end{align*}\n",
    "\n",
    "### Variables\n",
    "- $S$: Fraction of susceptible and uninfected individuals\n",
    "- $V_{S}$: Fraction of vaccinated and uninfected individuals who are equally as susceptible as unvaccinated individuals \n",
    "- $V_{R}$: Fraction of vaccinated and uninfected individuals who are less susceptible than unvaccinated individuals\n",
    "- $E$: Fraction of exposed individuals who are not yet infected\n",
    "- $I$: Fraction of infected individuals\n",
    "- $R$: Fraction of recovered individuals\n",
    "\n",
    "### Parameters\n",
    "- $\\beta$: Infectiousnes of infected individuals\n",
    "- $v(t)$: Fraction of population vaccinated per unit time. For an instantaneous vaccination campaign at time $t_V$ that targets a fraction $f_V$ of the population, $v(t) = f_V \\delta (t - t_V)$ where $\\delta$ is the Kronecker delta function. For a continuous vaccine rollout beginning at time $t_V$ at initial rate $v_{max}$ and continuing until a fraction $f_V$ of the population are vaccinated, $v(t) = v_{max}H(t-t_V)(1 - \\frac{V_S + V_R}{f_V})$ where $H$ is the Heaviside step function.\n",
    "- $\\epsilon_A$: Efficacy of 'all-or-nothing' protection\n",
    "- $\\epsilon_L$: Efficacy of 'leaky' protection\n",
    "- $\\sigma$: Rate at which exposed individuals become infected (1 / Duration of the latent period)\n",
    "- $\\gamma$: Rate at which infected individuals recover (1 / Duration of the infectious period)\n",
    "- $w$: Rate at which immunity of the vaccinated individauls wanes"
   ]
  },
  {
   "cell_type": "code",
   "execution_count": 3,
   "metadata": {},
   "outputs": [],
   "source": [
    "def delta(t, tv):\n",
    "    if (t > tv - 0.8) and (t < tv + 0.8):\n",
    "        return 1\n",
    "    else:\n",
    "        return 0"
   ]
  },
  {
   "cell_type": "code",
   "execution_count": 4,
   "metadata": {},
   "outputs": [],
   "source": [
    "def modified_seir_waning(y, t, tv, beta, sigma, gamma, fv, epsL, epsA, w):\n",
    "    \"\"\"\n",
    "    Modified SEIR model for instantaneous vaccination. \n",
    "    \"\"\"\n",
    "    s, v_s, v_r, e, i, r = y\n",
    "    v = fv * delta(t, tv)\n",
    "    \n",
    "    dsdt = - beta*s*i - v*s\n",
    "    dvsdt = (1-epsA)*v*s - beta*v_s*i + w*v_r\n",
    "    dvrdt = epsA*v*s - beta*(1-epsL)*v_r*i - w*v_r\n",
    "    dedt = beta*(s+v_s+(1-epsL)*v_r)*i - sigma*e\n",
    "    didt = sigma*e - gamma*i\n",
    "    drdt = gamma*i\n",
    "\n",
    "    return dsdt, dvsdt, dvrdt, dedt, didt, drdt"
   ]
  },
  {
   "cell_type": "code",
   "execution_count": 5,
   "metadata": {},
   "outputs": [],
   "source": [
    "def run_modified_seir(y0: list, t: np.ndarray, tv: int, beta: float, sigma: float, gamma: float, fv: float, \\\n",
    "    eps: float, w: float, mode: str = 'leaky'):\n",
    "    if mode == 'leaky':\n",
    "        epsL = eps; epsA = 1\n",
    "    elif mode == 'aon':\n",
    "        epsL = 1; epsA = eps\n",
    "    else:\n",
    "        print(\"Mode must be 'leaky' or 'aon'.\")\n",
    "\n",
    "    sim = odeint(modified_seir_waning, y0, t, args=(tv, beta, sigma, gamma, fv, epsL, epsA, w))\n",
    "    s, v_s, v_r, e, i, r = sim.T\n",
    "    v = v_s + v_r\n",
    "\n",
    "    return s, v_s, v_r, v, e, i, r"
   ]
  },
  {
   "cell_type": "markdown",
   "metadata": {},
   "source": [
    "# Time-Series Plots\n",
    "\n",
    "## Pre-transmission Vaccination\n",
    "Once again, we will assume that vaccination happens all at once for simplicity. Note that for a leaky vaccine, $\\epsilon_A = 1$, and for an all-or-nothing vaccine, $\\epsilon_L = 1$.\n",
    "\n",
    "For the plots below, $\\beta, \\gamma, \\sigma$ values were chosen based on the characteristics of COVID-19, and $\\epsilon_L, \\epsilon_A, v$ were arbitrary values that show the difference between the two vaccine failure mechanisms."
   ]
  }
 ],
 "metadata": {
  "interpreter": {
   "hash": "4f3b8eefc78933c2a2d236489075eaa413f116baf616c244ca2be3004dc84179"
  },
  "kernelspec": {
   "display_name": "Python 3.9.7 ('base')",
   "language": "python",
   "name": "python3"
  },
  "language_info": {
   "codemirror_mode": {
    "name": "ipython",
    "version": 3
   },
   "file_extension": ".py",
   "mimetype": "text/x-python",
   "name": "python",
   "nbconvert_exporter": "python",
   "pygments_lexer": "ipython3",
   "version": "3.9.7"
  },
  "orig_nbformat": 4
 },
 "nbformat": 4,
 "nbformat_minor": 2
}
